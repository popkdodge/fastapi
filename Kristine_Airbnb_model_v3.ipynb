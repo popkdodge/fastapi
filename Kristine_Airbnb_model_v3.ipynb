{
  "nbformat": 4,
  "nbformat_minor": 0,
  "metadata": {
    "colab": {
      "name": "Kristine_Airbnb_model_v3.ipynb",
      "provenance": []
    },
    "kernelspec": {
      "name": "python3",
      "display_name": "Python 3"
    }
  },
  "cells": [
    {
      "cell_type": "code",
      "metadata": {
        "id": "bpjjp3I1fXRQ",
        "colab_type": "code",
        "colab": {
          "base_uri": "https://localhost:8080/",
          "height": 224
        },
        "outputId": "618daf27-bfe4-4099-8c94-e957fbefe316"
      },
      "source": [
        "!pip install category_encoders"
      ],
      "execution_count": 6,
      "outputs": [
        {
          "output_type": "stream",
          "text": [
            "Requirement already satisfied: category_encoders in /usr/local/lib/python3.6/dist-packages (2.2.2)\n",
            "Requirement already satisfied: scikit-learn>=0.20.0 in /usr/local/lib/python3.6/dist-packages (from category_encoders) (0.22.2.post1)\n",
            "Requirement already satisfied: numpy>=1.14.0 in /usr/local/lib/python3.6/dist-packages (from category_encoders) (1.18.5)\n",
            "Requirement already satisfied: patsy>=0.5.1 in /usr/local/lib/python3.6/dist-packages (from category_encoders) (0.5.1)\n",
            "Requirement already satisfied: scipy>=1.0.0 in /usr/local/lib/python3.6/dist-packages (from category_encoders) (1.4.1)\n",
            "Requirement already satisfied: statsmodels>=0.9.0 in /usr/local/lib/python3.6/dist-packages (from category_encoders) (0.10.2)\n",
            "Requirement already satisfied: pandas>=0.21.1 in /usr/local/lib/python3.6/dist-packages (from category_encoders) (1.0.5)\n",
            "Requirement already satisfied: joblib>=0.11 in /usr/local/lib/python3.6/dist-packages (from scikit-learn>=0.20.0->category_encoders) (0.16.0)\n",
            "Requirement already satisfied: six in /usr/local/lib/python3.6/dist-packages (from patsy>=0.5.1->category_encoders) (1.15.0)\n",
            "Requirement already satisfied: pytz>=2017.2 in /usr/local/lib/python3.6/dist-packages (from pandas>=0.21.1->category_encoders) (2018.9)\n",
            "Requirement already satisfied: python-dateutil>=2.6.1 in /usr/local/lib/python3.6/dist-packages (from pandas>=0.21.1->category_encoders) (2.8.1)\n"
          ],
          "name": "stdout"
        }
      ]
    },
    {
      "cell_type": "code",
      "metadata": {
        "id": "fqnOGjEfx3Da",
        "colab_type": "code",
        "colab": {}
      },
      "source": [
        "import pandas as pd\n",
        "import numpy as np\n",
        "import os\n",
        "import datetime\n",
        "import tensorflow as tf\n",
        "import category_encoders as ce\n",
        "from sklearn.preprocessing import OneHotEncoder\n",
        "import math\n",
        "import pickle\n",
        "\n",
        "from sklearn.model_selection import train_test_split\n",
        "from tensorflow.keras.models import Sequential\n",
        "from tensorflow.keras.layers import Flatten, Dense, Dropout\n",
        "from tensorflow.keras.callbacks import EarlyStopping\n",
        "from tensorflow.keras.optimizers import Adam"
      ],
      "execution_count": 1,
      "outputs": []
    },
    {
      "cell_type": "code",
      "metadata": {
        "id": "b4MpvuRJyT1A",
        "colab_type": "code",
        "colab": {}
      },
      "source": [
        "def wrangle(X):\n",
        "\n",
        "  X = X.filter(['log_price', 'room_type', 'accommodates', 'bathrooms', 'latitude',\n",
        "                'longitude','review_scores_rating', 'bedrooms', 'beds', 'TV', \n",
        "                'zipcode'], axis=1)\n",
        "\n",
        "  X[\"zipcode\"] = X[\"zipcode\"].replace(\"Near 91304\", 91304)\n",
        "  X[\"zipcode\"] = X[\"zipcode\"].replace(\"1m\", 10023)\n",
        "  X[\"zipcode\"] = pd.to_numeric(X[\"zipcode\"], errors=\"coerce\")\n",
        "  X[\"zipcode\"] = X[\"zipcode\"].replace(np.nan, X[\"zipcode\"].median())\n",
        "  X[\"zipcode\"] = X[\"zipcode\"].astype(str)\n",
        "  X['zipcode'] = X['zipcode'][:5] \n",
        "  X[\"zipcode\"] = X[\"zipcode\"].replace(\".\", \"\")  \n",
        "  X[\"zipcode\"] = X[\"zipcode\"].astype(float)\n",
        "\n",
        "  X = X.fillna(0)\n",
        "\n",
        "  encoder = ce.OrdinalEncoder()\n",
        "  X = encoder.fit_transform(X)\n",
        "\n",
        "  X = X.astype(float)\n",
        "\n",
        "  return X"
      ],
      "execution_count": 2,
      "outputs": []
    },
    {
      "cell_type": "code",
      "metadata": {
        "id": "7lYY9Lj3yNTc",
        "colab_type": "code",
        "colab": {}
      },
      "source": [
        "df = pd.read_csv('clean.csv')"
      ],
      "execution_count": 3,
      "outputs": [
        {
          "output_type": "error",
          "ename": "FileNotFoundError",
          "evalue": "[Errno 2] File clean.csv does not exist: 'clean.csv'",
          "traceback": [
            "\u001b[0;31m---------------------------------------------------------------------------\u001b[0m",
            "\u001b[0;31mFileNotFoundError\u001b[0m                         Traceback (most recent call last)",
            "\u001b[0;32m<ipython-input-3-ffb5777329cd>\u001b[0m in \u001b[0;36m<module>\u001b[0;34m\u001b[0m\n\u001b[0;32m----> 1\u001b[0;31m \u001b[0mdf\u001b[0m \u001b[0;34m=\u001b[0m \u001b[0mpd\u001b[0m\u001b[0;34m.\u001b[0m\u001b[0mread_csv\u001b[0m\u001b[0;34m(\u001b[0m\u001b[0;34m'clean.csv'\u001b[0m\u001b[0;34m)\u001b[0m\u001b[0;34m\u001b[0m\u001b[0;34m\u001b[0m\u001b[0m\n\u001b[0m",
            "\u001b[0;32m~/anaconda3/lib/python3.7/site-packages/pandas/io/parsers.py\u001b[0m in \u001b[0;36mparser_f\u001b[0;34m(filepath_or_buffer, sep, delimiter, header, names, index_col, usecols, squeeze, prefix, mangle_dupe_cols, dtype, engine, converters, true_values, false_values, skipinitialspace, skiprows, skipfooter, nrows, na_values, keep_default_na, na_filter, verbose, skip_blank_lines, parse_dates, infer_datetime_format, keep_date_col, date_parser, dayfirst, cache_dates, iterator, chunksize, compression, thousands, decimal, lineterminator, quotechar, quoting, doublequote, escapechar, comment, encoding, dialect, error_bad_lines, warn_bad_lines, delim_whitespace, low_memory, memory_map, float_precision)\u001b[0m\n\u001b[1;32m    674\u001b[0m         )\n\u001b[1;32m    675\u001b[0m \u001b[0;34m\u001b[0m\u001b[0m\n\u001b[0;32m--> 676\u001b[0;31m         \u001b[0;32mreturn\u001b[0m \u001b[0m_read\u001b[0m\u001b[0;34m(\u001b[0m\u001b[0mfilepath_or_buffer\u001b[0m\u001b[0;34m,\u001b[0m \u001b[0mkwds\u001b[0m\u001b[0;34m)\u001b[0m\u001b[0;34m\u001b[0m\u001b[0;34m\u001b[0m\u001b[0m\n\u001b[0m\u001b[1;32m    677\u001b[0m \u001b[0;34m\u001b[0m\u001b[0m\n\u001b[1;32m    678\u001b[0m     \u001b[0mparser_f\u001b[0m\u001b[0;34m.\u001b[0m\u001b[0m__name__\u001b[0m \u001b[0;34m=\u001b[0m \u001b[0mname\u001b[0m\u001b[0;34m\u001b[0m\u001b[0;34m\u001b[0m\u001b[0m\n",
            "\u001b[0;32m~/anaconda3/lib/python3.7/site-packages/pandas/io/parsers.py\u001b[0m in \u001b[0;36m_read\u001b[0;34m(filepath_or_buffer, kwds)\u001b[0m\n\u001b[1;32m    446\u001b[0m \u001b[0;34m\u001b[0m\u001b[0m\n\u001b[1;32m    447\u001b[0m     \u001b[0;31m# Create the parser.\u001b[0m\u001b[0;34m\u001b[0m\u001b[0;34m\u001b[0m\u001b[0;34m\u001b[0m\u001b[0m\n\u001b[0;32m--> 448\u001b[0;31m     \u001b[0mparser\u001b[0m \u001b[0;34m=\u001b[0m \u001b[0mTextFileReader\u001b[0m\u001b[0;34m(\u001b[0m\u001b[0mfp_or_buf\u001b[0m\u001b[0;34m,\u001b[0m \u001b[0;34m**\u001b[0m\u001b[0mkwds\u001b[0m\u001b[0;34m)\u001b[0m\u001b[0;34m\u001b[0m\u001b[0;34m\u001b[0m\u001b[0m\n\u001b[0m\u001b[1;32m    449\u001b[0m \u001b[0;34m\u001b[0m\u001b[0m\n\u001b[1;32m    450\u001b[0m     \u001b[0;32mif\u001b[0m \u001b[0mchunksize\u001b[0m \u001b[0;32mor\u001b[0m \u001b[0miterator\u001b[0m\u001b[0;34m:\u001b[0m\u001b[0;34m\u001b[0m\u001b[0;34m\u001b[0m\u001b[0m\n",
            "\u001b[0;32m~/anaconda3/lib/python3.7/site-packages/pandas/io/parsers.py\u001b[0m in \u001b[0;36m__init__\u001b[0;34m(self, f, engine, **kwds)\u001b[0m\n\u001b[1;32m    878\u001b[0m             \u001b[0mself\u001b[0m\u001b[0;34m.\u001b[0m\u001b[0moptions\u001b[0m\u001b[0;34m[\u001b[0m\u001b[0;34m\"has_index_names\"\u001b[0m\u001b[0;34m]\u001b[0m \u001b[0;34m=\u001b[0m \u001b[0mkwds\u001b[0m\u001b[0;34m[\u001b[0m\u001b[0;34m\"has_index_names\"\u001b[0m\u001b[0;34m]\u001b[0m\u001b[0;34m\u001b[0m\u001b[0;34m\u001b[0m\u001b[0m\n\u001b[1;32m    879\u001b[0m \u001b[0;34m\u001b[0m\u001b[0m\n\u001b[0;32m--> 880\u001b[0;31m         \u001b[0mself\u001b[0m\u001b[0;34m.\u001b[0m\u001b[0m_make_engine\u001b[0m\u001b[0;34m(\u001b[0m\u001b[0mself\u001b[0m\u001b[0;34m.\u001b[0m\u001b[0mengine\u001b[0m\u001b[0;34m)\u001b[0m\u001b[0;34m\u001b[0m\u001b[0;34m\u001b[0m\u001b[0m\n\u001b[0m\u001b[1;32m    881\u001b[0m \u001b[0;34m\u001b[0m\u001b[0m\n\u001b[1;32m    882\u001b[0m     \u001b[0;32mdef\u001b[0m \u001b[0mclose\u001b[0m\u001b[0;34m(\u001b[0m\u001b[0mself\u001b[0m\u001b[0;34m)\u001b[0m\u001b[0;34m:\u001b[0m\u001b[0;34m\u001b[0m\u001b[0;34m\u001b[0m\u001b[0m\n",
            "\u001b[0;32m~/anaconda3/lib/python3.7/site-packages/pandas/io/parsers.py\u001b[0m in \u001b[0;36m_make_engine\u001b[0;34m(self, engine)\u001b[0m\n\u001b[1;32m   1112\u001b[0m     \u001b[0;32mdef\u001b[0m \u001b[0m_make_engine\u001b[0m\u001b[0;34m(\u001b[0m\u001b[0mself\u001b[0m\u001b[0;34m,\u001b[0m \u001b[0mengine\u001b[0m\u001b[0;34m=\u001b[0m\u001b[0;34m\"c\"\u001b[0m\u001b[0;34m)\u001b[0m\u001b[0;34m:\u001b[0m\u001b[0;34m\u001b[0m\u001b[0;34m\u001b[0m\u001b[0m\n\u001b[1;32m   1113\u001b[0m         \u001b[0;32mif\u001b[0m \u001b[0mengine\u001b[0m \u001b[0;34m==\u001b[0m \u001b[0;34m\"c\"\u001b[0m\u001b[0;34m:\u001b[0m\u001b[0;34m\u001b[0m\u001b[0;34m\u001b[0m\u001b[0m\n\u001b[0;32m-> 1114\u001b[0;31m             \u001b[0mself\u001b[0m\u001b[0;34m.\u001b[0m\u001b[0m_engine\u001b[0m \u001b[0;34m=\u001b[0m \u001b[0mCParserWrapper\u001b[0m\u001b[0;34m(\u001b[0m\u001b[0mself\u001b[0m\u001b[0;34m.\u001b[0m\u001b[0mf\u001b[0m\u001b[0;34m,\u001b[0m \u001b[0;34m**\u001b[0m\u001b[0mself\u001b[0m\u001b[0;34m.\u001b[0m\u001b[0moptions\u001b[0m\u001b[0;34m)\u001b[0m\u001b[0;34m\u001b[0m\u001b[0;34m\u001b[0m\u001b[0m\n\u001b[0m\u001b[1;32m   1115\u001b[0m         \u001b[0;32melse\u001b[0m\u001b[0;34m:\u001b[0m\u001b[0;34m\u001b[0m\u001b[0;34m\u001b[0m\u001b[0m\n\u001b[1;32m   1116\u001b[0m             \u001b[0;32mif\u001b[0m \u001b[0mengine\u001b[0m \u001b[0;34m==\u001b[0m \u001b[0;34m\"python\"\u001b[0m\u001b[0;34m:\u001b[0m\u001b[0;34m\u001b[0m\u001b[0;34m\u001b[0m\u001b[0m\n",
            "\u001b[0;32m~/anaconda3/lib/python3.7/site-packages/pandas/io/parsers.py\u001b[0m in \u001b[0;36m__init__\u001b[0;34m(self, src, **kwds)\u001b[0m\n\u001b[1;32m   1889\u001b[0m         \u001b[0mkwds\u001b[0m\u001b[0;34m[\u001b[0m\u001b[0;34m\"usecols\"\u001b[0m\u001b[0;34m]\u001b[0m \u001b[0;34m=\u001b[0m \u001b[0mself\u001b[0m\u001b[0;34m.\u001b[0m\u001b[0musecols\u001b[0m\u001b[0;34m\u001b[0m\u001b[0;34m\u001b[0m\u001b[0m\n\u001b[1;32m   1890\u001b[0m \u001b[0;34m\u001b[0m\u001b[0m\n\u001b[0;32m-> 1891\u001b[0;31m         \u001b[0mself\u001b[0m\u001b[0;34m.\u001b[0m\u001b[0m_reader\u001b[0m \u001b[0;34m=\u001b[0m \u001b[0mparsers\u001b[0m\u001b[0;34m.\u001b[0m\u001b[0mTextReader\u001b[0m\u001b[0;34m(\u001b[0m\u001b[0msrc\u001b[0m\u001b[0;34m,\u001b[0m \u001b[0;34m**\u001b[0m\u001b[0mkwds\u001b[0m\u001b[0;34m)\u001b[0m\u001b[0;34m\u001b[0m\u001b[0;34m\u001b[0m\u001b[0m\n\u001b[0m\u001b[1;32m   1892\u001b[0m         \u001b[0mself\u001b[0m\u001b[0;34m.\u001b[0m\u001b[0munnamed_cols\u001b[0m \u001b[0;34m=\u001b[0m \u001b[0mself\u001b[0m\u001b[0;34m.\u001b[0m\u001b[0m_reader\u001b[0m\u001b[0;34m.\u001b[0m\u001b[0munnamed_cols\u001b[0m\u001b[0;34m\u001b[0m\u001b[0;34m\u001b[0m\u001b[0m\n\u001b[1;32m   1893\u001b[0m \u001b[0;34m\u001b[0m\u001b[0m\n",
            "\u001b[0;32mpandas/_libs/parsers.pyx\u001b[0m in \u001b[0;36mpandas._libs.parsers.TextReader.__cinit__\u001b[0;34m()\u001b[0m\n",
            "\u001b[0;32mpandas/_libs/parsers.pyx\u001b[0m in \u001b[0;36mpandas._libs.parsers.TextReader._setup_parser_source\u001b[0;34m()\u001b[0m\n",
            "\u001b[0;31mFileNotFoundError\u001b[0m: [Errno 2] File clean.csv does not exist: 'clean.csv'"
          ]
        }
      ]
    },
    {
      "cell_type": "code",
      "metadata": {
        "id": "pM0LsTyOywkZ",
        "colab_type": "code",
        "colab": {}
      },
      "source": [
        "df = wrangle(df)"
      ],
      "execution_count": 10,
      "outputs": []
    },
    {
      "cell_type": "code",
      "metadata": {
        "id": "dq5TEFOZzdY3",
        "colab_type": "code",
        "colab": {}
      },
      "source": [
        "train, test = train_test_split(df, test_size=0.2, random_state=42)\n"
      ],
      "execution_count": 11,
      "outputs": []
    },
    {
      "cell_type": "code",
      "metadata": {
        "id": "8zvoZ8RKz1kV",
        "colab_type": "code",
        "colab": {}
      },
      "source": [
        "X_train = train.drop(columns=\"log_price\")\n",
        "y_train = train[\"log_price\"]\n",
        "\n",
        "X_test = test.drop(columns=\"log_price\")\n",
        "y_test = test[\"log_price\"]"
      ],
      "execution_count": 12,
      "outputs": []
    },
    {
      "cell_type": "code",
      "metadata": {
        "id": "fi4GuOKAz_78",
        "colab_type": "code",
        "colab": {}
      },
      "source": [
        "from tensorflow.keras.callbacks import EarlyStopping\n",
        "\n",
        "adam = Adam(learning_rate=0.01)\n",
        "\n",
        "stop = EarlyStopping(monitor='val_loss', min_delta=0.001, patience=3)\n",
        "\n",
        "model = Sequential([\n",
        "    Dense(512, input_dim=10, activation= 'relu'),\n",
        "    Dense(256, activation=\"relu\"),\n",
        "    Dense(128, activation=\"relu\"),\n",
        "    Dense(64, activation='relu'),\n",
        "    Dense(32, activation='relu'),\n",
        "    Dense(16, activation='relu'),\n",
        "    Dense(1)\n",
        "    ])\n",
        "\n",
        "model.compile(loss='mean_squared_error', optimizer=adam, metrics=['mae'])"
      ],
      "execution_count": 31,
      "outputs": []
    },
    {
      "cell_type": "code",
      "metadata": {
        "id": "VWZ570sc0CrK",
        "colab_type": "code",
        "colab": {
          "base_uri": "https://localhost:8080/",
          "height": 1000
        },
        "outputId": "3f094d76-e28d-4e22-e42b-55080134adf6"
      },
      "source": [
        "model.fit(x=X_train, \n",
        "          y=y_train, \n",
        "          epochs=50, \n",
        "          validation_data=(X_test, y_test))"
      ],
      "execution_count": 32,
      "outputs": [
        {
          "output_type": "stream",
          "text": [
            "Epoch 1/50\n",
            "533/533 [==============================] - 3s 5ms/step - loss: 2337.7449 - mae: 1.4524 - val_loss: 0.7568 - val_mae: 0.5225\n",
            "Epoch 2/50\n",
            "533/533 [==============================] - 2s 5ms/step - loss: 14.9625 - mae: 0.4596 - val_loss: 12.7529 - val_mae: 0.6010\n",
            "Epoch 3/50\n",
            "533/533 [==============================] - 3s 5ms/step - loss: 0.3019 - mae: 0.4169 - val_loss: 8.1485 - val_mae: 1.0499\n",
            "Epoch 4/50\n",
            "533/533 [==============================] - 2s 5ms/step - loss: 0.2940 - mae: 0.4101 - val_loss: 0.2656 - val_mae: 0.3879\n",
            "Epoch 5/50\n",
            "533/533 [==============================] - 2s 5ms/step - loss: 0.2833 - mae: 0.4053 - val_loss: 0.4033 - val_mae: 0.4844\n",
            "Epoch 6/50\n",
            "533/533 [==============================] - 2s 4ms/step - loss: 0.2718 - mae: 0.3973 - val_loss: 0.3475 - val_mae: 0.4495\n",
            "Epoch 7/50\n",
            "533/533 [==============================] - 2s 5ms/step - loss: 0.2642 - mae: 0.3905 - val_loss: 0.2445 - val_mae: 0.3709\n",
            "Epoch 8/50\n",
            "533/533 [==============================] - 3s 5ms/step - loss: 0.2675 - mae: 0.3941 - val_loss: 0.3134 - val_mae: 0.4480\n",
            "Epoch 9/50\n",
            "533/533 [==============================] - 3s 5ms/step - loss: 0.2562 - mae: 0.3873 - val_loss: 0.3660 - val_mae: 0.4954\n",
            "Epoch 10/50\n",
            "533/533 [==============================] - 3s 5ms/step - loss: 0.2539 - mae: 0.3848 - val_loss: 0.3287 - val_mae: 0.4659\n",
            "Epoch 11/50\n",
            "533/533 [==============================] - 3s 5ms/step - loss: 0.2548 - mae: 0.3850 - val_loss: 0.2591 - val_mae: 0.3985\n",
            "Epoch 12/50\n",
            "533/533 [==============================] - 3s 5ms/step - loss: 0.2568 - mae: 0.3861 - val_loss: 0.4785 - val_mae: 0.5774\n",
            "Epoch 13/50\n",
            "533/533 [==============================] - 3s 5ms/step - loss: 0.2525 - mae: 0.3824 - val_loss: 0.2793 - val_mae: 0.4194\n",
            "Epoch 14/50\n",
            "533/533 [==============================] - 3s 5ms/step - loss: 0.2567 - mae: 0.3860 - val_loss: 0.2477 - val_mae: 0.3854\n",
            "Epoch 15/50\n",
            "533/533 [==============================] - 3s 5ms/step - loss: 0.2529 - mae: 0.3828 - val_loss: 0.2459 - val_mae: 0.3772\n",
            "Epoch 16/50\n",
            "533/533 [==============================] - 2s 5ms/step - loss: 0.2529 - mae: 0.3842 - val_loss: 0.2690 - val_mae: 0.3936\n",
            "Epoch 17/50\n",
            "533/533 [==============================] - 2s 5ms/step - loss: 0.2519 - mae: 0.3830 - val_loss: 0.2995 - val_mae: 0.4136\n",
            "Epoch 18/50\n",
            "533/533 [==============================] - 2s 5ms/step - loss: 0.2473 - mae: 0.3795 - val_loss: 0.2486 - val_mae: 0.3792\n",
            "Epoch 19/50\n",
            "533/533 [==============================] - 2s 5ms/step - loss: 0.2470 - mae: 0.3792 - val_loss: 0.2610 - val_mae: 0.4004\n",
            "Epoch 20/50\n",
            "533/533 [==============================] - 2s 5ms/step - loss: 0.2513 - mae: 0.3823 - val_loss: 0.2463 - val_mae: 0.3821\n",
            "Epoch 21/50\n",
            "533/533 [==============================] - 2s 5ms/step - loss: 0.2501 - mae: 0.3818 - val_loss: 0.2952 - val_mae: 0.4336\n",
            "Epoch 22/50\n",
            "533/533 [==============================] - 3s 5ms/step - loss: 0.2497 - mae: 0.3812 - val_loss: 0.2509 - val_mae: 0.3887\n",
            "Epoch 23/50\n",
            "533/533 [==============================] - 3s 5ms/step - loss: 0.2495 - mae: 0.3809 - val_loss: 0.2616 - val_mae: 0.3944\n",
            "Epoch 24/50\n",
            "533/533 [==============================] - 3s 5ms/step - loss: 0.2485 - mae: 0.3800 - val_loss: 0.2472 - val_mae: 0.3819\n",
            "Epoch 25/50\n",
            "533/533 [==============================] - 3s 5ms/step - loss: 0.2486 - mae: 0.3800 - val_loss: 0.2565 - val_mae: 0.3825\n",
            "Epoch 26/50\n",
            "533/533 [==============================] - 3s 5ms/step - loss: 0.2481 - mae: 0.3803 - val_loss: 0.2632 - val_mae: 0.3859\n",
            "Epoch 27/50\n",
            "533/533 [==============================] - 3s 5ms/step - loss: 0.2498 - mae: 0.3825 - val_loss: 0.2893 - val_mae: 0.4058\n",
            "Epoch 28/50\n",
            "533/533 [==============================] - 3s 5ms/step - loss: 0.2434 - mae: 0.3766 - val_loss: 0.2666 - val_mae: 0.4063\n",
            "Epoch 29/50\n",
            "533/533 [==============================] - 3s 5ms/step - loss: 0.2447 - mae: 0.3776 - val_loss: 0.2500 - val_mae: 0.3846\n",
            "Epoch 30/50\n",
            "533/533 [==============================] - 3s 5ms/step - loss: 0.2462 - mae: 0.3784 - val_loss: 0.2423 - val_mae: 0.3755\n",
            "Epoch 31/50\n",
            "533/533 [==============================] - 3s 5ms/step - loss: 0.2400 - mae: 0.3736 - val_loss: 0.2555 - val_mae: 0.3795\n",
            "Epoch 32/50\n",
            "533/533 [==============================] - 2s 5ms/step - loss: 0.2446 - mae: 0.3772 - val_loss: 0.2551 - val_mae: 0.3788\n",
            "Epoch 33/50\n",
            "533/533 [==============================] - 2s 5ms/step - loss: 0.2411 - mae: 0.3738 - val_loss: 0.2430 - val_mae: 0.3788\n",
            "Epoch 34/50\n",
            "533/533 [==============================] - 3s 5ms/step - loss: 0.2459 - mae: 0.3790 - val_loss: 0.2475 - val_mae: 0.3793\n",
            "Epoch 35/50\n",
            "533/533 [==============================] - 3s 5ms/step - loss: 0.2443 - mae: 0.3776 - val_loss: 0.2475 - val_mae: 0.3830\n",
            "Epoch 36/50\n",
            "533/533 [==============================] - 3s 5ms/step - loss: 0.2386 - mae: 0.3722 - val_loss: 0.2508 - val_mae: 0.3828\n",
            "Epoch 37/50\n",
            "533/533 [==============================] - 3s 5ms/step - loss: 0.2425 - mae: 0.3751 - val_loss: 0.2415 - val_mae: 0.3759\n",
            "Epoch 38/50\n",
            "533/533 [==============================] - 3s 5ms/step - loss: 0.2422 - mae: 0.3764 - val_loss: 0.2677 - val_mae: 0.4040\n",
            "Epoch 39/50\n",
            "533/533 [==============================] - 3s 5ms/step - loss: 0.2426 - mae: 0.3757 - val_loss: 0.2527 - val_mae: 0.3795\n",
            "Epoch 40/50\n",
            "533/533 [==============================] - 3s 5ms/step - loss: 0.2485 - mae: 0.3785 - val_loss: 0.2613 - val_mae: 0.3822\n",
            "Epoch 41/50\n",
            "533/533 [==============================] - 3s 5ms/step - loss: 0.2437 - mae: 0.3775 - val_loss: 0.2701 - val_mae: 0.4102\n",
            "Epoch 42/50\n",
            "533/533 [==============================] - 2s 5ms/step - loss: 0.2391 - mae: 0.3728 - val_loss: 0.2410 - val_mae: 0.3727\n",
            "Epoch 43/50\n",
            "533/533 [==============================] - 3s 5ms/step - loss: 0.2417 - mae: 0.3749 - val_loss: 0.2427 - val_mae: 0.3757\n",
            "Epoch 44/50\n",
            "533/533 [==============================] - 2s 5ms/step - loss: 0.2409 - mae: 0.3739 - val_loss: 0.2440 - val_mae: 0.3769\n",
            "Epoch 45/50\n",
            "533/533 [==============================] - 2s 5ms/step - loss: 0.2436 - mae: 0.3756 - val_loss: 0.2411 - val_mae: 0.3720\n",
            "Epoch 46/50\n",
            "533/533 [==============================] - 2s 5ms/step - loss: 0.2409 - mae: 0.3738 - val_loss: 0.2436 - val_mae: 0.3777\n",
            "Epoch 47/50\n",
            "533/533 [==============================] - 3s 5ms/step - loss: 0.2373 - mae: 0.3716 - val_loss: 0.2406 - val_mae: 0.3716\n",
            "Epoch 48/50\n",
            "533/533 [==============================] - 2s 5ms/step - loss: 0.2409 - mae: 0.3730 - val_loss: 0.2414 - val_mae: 0.3754\n",
            "Epoch 49/50\n",
            "533/533 [==============================] - 3s 5ms/step - loss: 0.2422 - mae: 0.3753 - val_loss: 0.2649 - val_mae: 0.4018\n",
            "Epoch 50/50\n",
            "533/533 [==============================] - 3s 5ms/step - loss: 0.2447 - mae: 0.3782 - val_loss: 0.2639 - val_mae: 0.4011\n"
          ],
          "name": "stdout"
        },
        {
          "output_type": "execute_result",
          "data": {
            "text/plain": [
              "<tensorflow.python.keras.callbacks.History at 0x7feac1f21ba8>"
            ]
          },
          "metadata": {
            "tags": []
          },
          "execution_count": 32
        }
      ]
    },
    {
      "cell_type": "code",
      "metadata": {
        "id": "8Dg_A9rfQwcv",
        "colab_type": "code",
        "colab": {
          "base_uri": "https://localhost:8080/",
          "height": 34
        },
        "outputId": "6d2a5992-027f-4e86-871d-30520e7482eb"
      },
      "source": [
        "kristine_models = model.save('kristine_model_1')"
      ],
      "execution_count": 33,
      "outputs": [
        {
          "output_type": "stream",
          "text": [
            "INFO:tensorflow:Assets written to: kristine_model_1/assets\n"
          ],
          "name": "stdout"
        }
      ]
    },
    {
      "cell_type": "code",
      "metadata": {
        "id": "U2uagkz2RHZH",
        "colab_type": "code",
        "colab": {}
      },
      "source": [
        "test_model_1 = tf.keras.models.load_model('kristine_model_1')"
      ],
      "execution_count": 34,
      "outputs": []
    },
    {
      "cell_type": "code",
      "metadata": {
        "id": "qZnCzAHbRbVd",
        "colab_type": "code",
        "colab": {
          "base_uri": "https://localhost:8080/",
          "height": 34
        },
        "outputId": "94342f1a-d590-4f34-d643-33349c62fb68"
      },
      "source": [
        "test_model"
      ],
      "execution_count": 35,
      "outputs": [
        {
          "output_type": "execute_result",
          "data": {
            "text/plain": [
              "<tensorflow.python.keras.engine.sequential.Sequential at 0x7feacb1500b8>"
            ]
          },
          "metadata": {
            "tags": []
          },
          "execution_count": 35
        }
      ]
    },
    {
      "cell_type": "code",
      "metadata": {
        "id": "vT5z52GzReqV",
        "colab_type": "code",
        "colab": {
          "base_uri": "https://localhost:8080/",
          "height": 136
        },
        "outputId": "d9efae5e-5436-4eea-be10-2449be9b8ab9"
      },
      "source": [
        "test_model_1.predict(X_test)"
      ],
      "execution_count": 36,
      "outputs": [
        {
          "output_type": "execute_result",
          "data": {
            "text/plain": [
              "array([[4.3169956],\n",
              "       [4.319581 ],\n",
              "       [5.062414 ],\n",
              "       ...,\n",
              "       [5.345599 ],\n",
              "       [5.9439096],\n",
              "       [4.3998146]], dtype=float32)"
            ]
          },
          "metadata": {
            "tags": []
          },
          "execution_count": 36
        }
      ]
    },
    {
      "cell_type": "code",
      "execution_count": null,
      "metadata": {},
      "outputs": [],
      "source": [
        "kristine_models = model.save('kristine_model_0')"
      ]
    }
  ]
}